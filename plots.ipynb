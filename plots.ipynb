{
 "cells": [
  {
   "cell_type": "code",
   "execution_count": 32,
   "metadata": {},
   "outputs": [],
   "source": [
    "from glob import glob\n",
    "from xml.etree import ElementTree as ET\n",
    "import matplotlib.pyplot as plt\n",
    "from pathlib import Path"
   ]
  },
  {
   "cell_type": "code",
   "execution_count": 26,
   "metadata": {},
   "outputs": [],
   "source": [
    "def get_count(path):\n",
    "    try:\n",
    "        tree = ET.parse(path)\n",
    "    except ET.ParseError:\n",
    "        return 0\n",
    "    count = tree.find('Count').text\n",
    "    return int(count) if count else 0\n"
   ]
  },
  {
   "cell_type": "code",
   "execution_count": 27,
   "metadata": {},
   "outputs": [],
   "source": [
    "import pandas as pd\n",
    "esearchs = glob(\"output/esearch/*.xml\")\n",
    "dfs = []\n",
    "for esearch in esearchs:\n",
    "    esearch_count = get_count(esearch)\n",
    "    dfs.append(pd.DataFrame({'count': [esearch_count], 'disease': [Path(esearch).stem]}))\n",
    "df = pd.concat(dfs)"
   ]
  },
  {
   "cell_type": "code",
   "execution_count": 28,
   "metadata": {},
   "outputs": [
    {
     "data": {
      "text/html": [
       "<div>\n",
       "<style scoped>\n",
       "    .dataframe tbody tr th:only-of-type {\n",
       "        vertical-align: middle;\n",
       "    }\n",
       "\n",
       "    .dataframe tbody tr th {\n",
       "        vertical-align: top;\n",
       "    }\n",
       "\n",
       "    .dataframe thead th {\n",
       "        text-align: right;\n",
       "    }\n",
       "</style>\n",
       "<table border=\"1\" class=\"dataframe\">\n",
       "  <thead>\n",
       "    <tr style=\"text-align: right;\">\n",
       "      <th></th>\n",
       "      <th>count</th>\n",
       "      <th>disease</th>\n",
       "    </tr>\n",
       "  </thead>\n",
       "  <tbody>\n",
       "    <tr>\n",
       "      <th>0</th>\n",
       "      <td>15799816</td>\n",
       "      <td>Hypothyroidism due to deficient transcription ...</td>\n",
       "    </tr>\n",
       "    <tr>\n",
       "      <th>0</th>\n",
       "      <td>1829752</td>\n",
       "      <td>Familial or sporadic hemiplegic migraine</td>\n",
       "    </tr>\n",
       "    <tr>\n",
       "      <th>0</th>\n",
       "      <td>1787356</td>\n",
       "      <td>Clinical group</td>\n",
       "    </tr>\n",
       "    <tr>\n",
       "      <th>0</th>\n",
       "      <td>1632588</td>\n",
       "      <td>Amino acid or protein metabolism disease with ...</td>\n",
       "    </tr>\n",
       "    <tr>\n",
       "      <th>0</th>\n",
       "      <td>1583873</td>\n",
       "      <td>Syndrome or malformation associated with head ...</td>\n",
       "    </tr>\n",
       "    <tr>\n",
       "      <th>...</th>\n",
       "      <td>...</td>\n",
       "      <td>...</td>\n",
       "    </tr>\n",
       "    <tr>\n",
       "      <th>0</th>\n",
       "      <td>0</td>\n",
       "      <td>Cleft palate_congenital heart defect_intellect...</td>\n",
       "    </tr>\n",
       "    <tr>\n",
       "      <th>0</th>\n",
       "      <td>0</td>\n",
       "      <td>Rare female infertility due to adrenal disorde...</td>\n",
       "    </tr>\n",
       "    <tr>\n",
       "      <th>0</th>\n",
       "      <td>0</td>\n",
       "      <td>Neurological channelopathy of the central nerv...</td>\n",
       "    </tr>\n",
       "    <tr>\n",
       "      <th>0</th>\n",
       "      <td>0</td>\n",
       "      <td>Lethal pontocerebellar hypoplasia_hypotonia_re...</td>\n",
       "    </tr>\n",
       "    <tr>\n",
       "      <th>0</th>\n",
       "      <td>0</td>\n",
       "      <td>Tay_Sachs disease_ juvenile form</td>\n",
       "    </tr>\n",
       "  </tbody>\n",
       "</table>\n",
       "<p>6732 rows × 2 columns</p>\n",
       "</div>"
      ],
      "text/plain": [
       "       count                                            disease\n",
       "0   15799816  Hypothyroidism due to deficient transcription ...\n",
       "0    1829752           Familial or sporadic hemiplegic migraine\n",
       "0    1787356                                     Clinical group\n",
       "0    1632588  Amino acid or protein metabolism disease with ...\n",
       "0    1583873  Syndrome or malformation associated with head ...\n",
       "..       ...                                                ...\n",
       "0          0  Cleft palate_congenital heart defect_intellect...\n",
       "0          0  Rare female infertility due to adrenal disorde...\n",
       "0          0  Neurological channelopathy of the central nerv...\n",
       "0          0  Lethal pontocerebellar hypoplasia_hypotonia_re...\n",
       "0          0                   Tay_Sachs disease_ juvenile form\n",
       "\n",
       "[6732 rows x 2 columns]"
      ]
     },
     "execution_count": 28,
     "metadata": {},
     "output_type": "execute_result"
    }
   ],
   "source": [
    "df = df.sort_values('count', ascending=False)\n",
    "df"
   ]
  },
  {
   "cell_type": "code",
   "execution_count": 30,
   "metadata": {},
   "outputs": [
    {
     "name": "stdout",
     "output_type": "stream",
     "text": [
      "717 / 6732 (10.65%) diseases with no articles\n"
     ]
    }
   ],
   "source": [
    "diseases_with_no_articles = df[df['count'] == 0]\n",
    "n_diseases_with_no_articles = len(diseases_with_no_articles)\n",
    "n_diseases = len(df)\n",
    "print(f\"{n_diseases_with_no_articles} / {n_diseases} ({n_diseases_with_no_articles / n_diseases * 100:.2f}%) diseases with no articles\")"
   ]
  },
  {
   "cell_type": "code",
   "execution_count": 33,
   "metadata": {},
   "outputs": [
    {
     "data": {
      "image/png": "[encoded data removed]",
      "text/plain": [
       "<Figure size 640x480 with 1 Axes>"
      ]
     },
     "metadata": {},
     "output_type": "display_data"
    }
   ],
   "source": [
    "import matplotlib.pyplot as plt\n",
    "\n",
    "plt.title(\"Number of Pubmed Articles per Disease\")\n",
    "plt.xlabel('Disease')\n",
    "plt.bar(range(1, len(df) + 1), df['count'])\n",
    "plt.ylabel('Number of articles (log scale)')\n",
    "plt.yscale('log')\n",
    "plt.show()\n"
   ]
  },
  {
   "cell_type": "code",
   "execution_count": null,
   "metadata": {},
   "outputs": [],
   "source": []
  }
 ],
 "metadata": {
  "kernelspec": {
   "display_name": "Python 3",
   "language": "python",
   "name": "python3"
  },
  "language_info": {
   "codemirror_mode": {
    "name": "ipython",
    "version": 3
   },
   "file_extension": ".py",
   "mimetype": "text/x-python",
   "name": "python",
   "nbconvert_exporter": "python",
   "pygments_lexer": "ipython3",
   "version": "3.10.12"
  }
 },
 "nbformat": 4,
 "nbformat_minor": 2
}
